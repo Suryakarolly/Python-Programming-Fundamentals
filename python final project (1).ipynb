{
 "cells": [
  {
   "cell_type": "code",
   "execution_count": null,
   "id": "be0cc5f3-497c-4ce4-87b0-e4b1a86861f1",
   "metadata": {},
   "outputs": [],
   "source": [
    "#Cyber Security (Security lock systems)\n",
    "Create a UDF which takes a password and an username as an input.\n",
    "There is a room security lock systems,...siren systems.\n",
    "password: abc@entry_room\n",
    "username: Dhanshree1122\n",
    "If the password and username matches, then it would display \"Welcome Dhanshree! Start from where you left.\"\n",
    "and if the password or username or both does not matches . it should display \" Invalid User, Sirens Alarm ring!!!!!\""
   ]
  },
  {
   "cell_type": "code",
   "execution_count": 48,
   "id": "73a7d2ed-d60c-4301-b542-6dc9d6d6bb95",
   "metadata": {},
   "outputs": [
    {
     "name": "stdin",
     "output_type": "stream",
     "text": [
      "Enter username:  Dhanshree1122\n",
      "Enter password:  abc@entry_room\n"
     ]
    },
    {
     "name": "stdout",
     "output_type": "stream",
     "text": [
      "Welcome Dhanshree! Start from where you left.\n"
     ]
    }
   ],
   "source": [
    "def security_lock_system(username, password):\n",
    "    # Stored credentials\n",
    "    stored_username = \"Dhanshree1122\"\n",
    "    stored_password = \"abc@entry_room\"\n",
    "    \n",
    "    # Check if the provided username and password match the stored ones\n",
    "    if username == stored_username and password == stored_password:\n",
    "        return \"Welcome Dhanshree! Start from where you left.\"\n",
    "    else:\n",
    "        return \"Invalid User, Sirens Alarm ring!!!!!\"\n",
    "# Example usage\n",
    "input_username = input(\"Enter username: \")\n",
    "input_password = input(\"Enter password: \")\n",
    "# Get the result\n",
    "result = security_lock_system(input_username, input_password)\n",
    "# Print the result\n",
    "print(result)"
   ]
  },
  {
   "cell_type": "code",
   "execution_count": null,
   "id": "cb6316b0-e20c-4cec-90f9-d5aa7aa723ce",
   "metadata": {},
   "outputs": [],
   "source": [
    "#string"
   ]
  },
  {
   "cell_type": "code",
   "execution_count": null,
   "id": "6cec5b70-e31f-4036-8184-a6d9d834bf70",
   "metadata": {},
   "outputs": [],
   "source": [
    "#1.program to check whether the string is Symmetrical or Palindrome"
   ]
  },
  {
   "cell_type": "code",
   "execution_count": 1,
   "id": "26e49750-fc41-4e10-970c-499bd27dee9c",
   "metadata": {},
   "outputs": [
    {
     "name": "stdout",
     "output_type": "stream",
     "text": [
      "the string is palindrome\n"
     ]
    }
   ],
   "source": [
    "string = \"malayalam\"\n",
    "print(\"the string is palindrome\" if string == ''.join(\n",
    "    reversed(string)) else \"the string is not palindrome\")"
   ]
  },
  {
   "cell_type": "code",
   "execution_count": null,
   "id": "d4492f68-5248-41de-b6e8-add7ba1b3ba7",
   "metadata": {},
   "outputs": [],
   "source": [
    "#2.Reverse the words in the given string program "
   ]
  },
  {
   "cell_type": "code",
   "execution_count": 7,
   "id": "c028bb75-bfbd-4fe1-9bfd-b10b66383ace",
   "metadata": {},
   "outputs": [
    {
     "name": "stdout",
     "output_type": "stream",
     "text": [
      "team other every with match one plays team\n"
     ]
    }
   ],
   "source": [
    "\n",
    "string = \"team plays one match with every other team\"\n",
    "# reversing words in a given string\n",
    "s = string.split()[::-1]\n",
    "l = []\n",
    "for i in s:\n",
    "\t# appending reversed words to l\n",
    "\tl.append(i)\n",
    "\n",
    "print(\" \".join(l))\n"
   ]
  },
  {
   "cell_type": "code",
   "execution_count": null,
   "id": "45bbb356-325b-43f3-826a-fda18b06b995",
   "metadata": {},
   "outputs": [],
   "source": [
    "#3.program to count number of vowels using sets in given string"
   ]
  },
  {
   "cell_type": "code",
   "execution_count": 11,
   "id": "5d762a95-91c8-4dfa-872d-23f45b8078a2",
   "metadata": {},
   "outputs": [
    {
     "name": "stdout",
     "output_type": "stream",
     "text": [
      "5\n"
     ]
    }
   ],
   "source": [
    "string = \"HOWAREYOU\"\n",
    "vowels = \"aeiouAEIOU\"\n",
    "\n",
    "count = sum(string.count(vowel) for vowel in vowels)\n",
    "print(count)\n"
   ]
  },
  {
   "cell_type": "code",
   "execution_count": null,
   "id": "68f93d70-0ed4-44a9-90cf-af4285536301",
   "metadata": {},
   "outputs": [],
   "source": [
    "#4.program to Convert a String to Title Case"
   ]
  },
  {
   "cell_type": "code",
   "execution_count": 21,
   "id": "695d63f2-e354-41fb-b96a-80024f0d9932",
   "metadata": {},
   "outputs": [
    {
     "name": "stdout",
     "output_type": "stream",
     "text": [
      "Good Morning\n"
     ]
    }
   ],
   "source": [
    "def to_title_case(s):\n",
    "    return s.title()\n",
    "\n",
    "# Test\n",
    "print(to_title_case(\"good morning\"))"
   ]
  },
  {
   "cell_type": "code",
   "execution_count": null,
   "id": "20e6a318-7f49-40d9-946e-505c46ed0c5b",
   "metadata": {},
   "outputs": [],
   "source": [
    "#5.Write a function that checks if two given strings are anagrams (contain the same characters in a different order)."
   ]
  },
  {
   "cell_type": "code",
   "execution_count": 97,
   "id": "ae171c5d-c852-4fc7-8313-6f9a82119c71",
   "metadata": {},
   "outputs": [
    {
     "name": "stdout",
     "output_type": "stream",
     "text": [
      "The strings are anagrams.\n"
     ]
    }
   ],
   "source": [
    "def check_anagrams(s1, s2):\n",
    "    x = sorted(s1)\n",
    "    y = sorted(s2)\n",
    "    return x == y\n",
    "    s1 = \"listen\"\n",
    "s2 = \"silent\"\n",
    "if check_anagrams(s1, s2):\n",
    "    print(\"The strings are anagrams.\")\n",
    "else:\n",
    "    print(\"The strings aren't anagrams.\")"
   ]
  },
  {
   "cell_type": "code",
   "execution_count": null,
   "id": "17aa0f57-0467-4626-9689-4abb12a0e149",
   "metadata": {},
   "outputs": [],
   "source": [
    "#Tuple"
   ]
  },
  {
   "cell_type": "code",
   "execution_count": null,
   "id": "c69ba96b-4f7f-4304-b863-456650928b9e",
   "metadata": {},
   "outputs": [],
   "source": [
    "#1.Compare two tuples, tuple1 and tuple2, to check if they are equal."
   ]
  },
  {
   "cell_type": "code",
   "execution_count": 27,
   "id": "9e8ffaa9-1b96-4fed-91cd-0d7d46920461",
   "metadata": {},
   "outputs": [
    {
     "name": "stdout",
     "output_type": "stream",
     "text": [
      "False\n"
     ]
    }
   ],
   "source": [
    "tuple1 = (1, 2, 3)\n",
    "tuple2 = (1, 2, 3,4,5)\n",
    "print(tuple1 == tuple2)"
   ]
  },
  {
   "cell_type": "code",
   "execution_count": null,
   "id": "2fd776e9-0800-4644-94af-f6b30fa024ab",
   "metadata": {},
   "outputs": [],
   "source": [
    "#2. Create two tuples names and ages containing names and ages of individuals. Zip these tuples to create a new tuple person_info containing pairs of (name, age)."
   ]
  },
  {
   "cell_type": "code",
   "execution_count": 29,
   "id": "210016f2-b50c-4be0-b2eb-a541f9020d3f",
   "metadata": {},
   "outputs": [
    {
     "name": "stdout",
     "output_type": "stream",
     "text": [
      "(('Alice', 25), ('Bob', 30), ('Charlie', 35))\n"
     ]
    }
   ],
   "source": [
    "names = (\"Alice\", \"Bob\", \"Charlie\")\n",
    "ages = (25, 30, 35)\n",
    "person_info = tuple(zip(names, ages))\n",
    "print(person_info)"
   ]
  },
  {
   "cell_type": "code",
   "execution_count": null,
   "id": "5df3bbc4-00b5-49af-8155-5a4bf106a81a",
   "metadata": {},
   "outputs": [],
   "source": [
    "#3.Write a program to find the second-largest element from the tuple."
   ]
  },
  {
   "cell_type": "code",
   "execution_count": 37,
   "id": "1ee89b2e-9145-4225-9c46-c8a4ca490c6a",
   "metadata": {},
   "outputs": [
    {
     "name": "stdout",
     "output_type": "stream",
     "text": [
      "7\n"
     ]
    }
   ],
   "source": [
    "t = (1,5,8,7,6,3,2,4)\n",
    "max_t = max(t)\n",
    "length = len(t)\n",
    "second_max = 0\n",
    "\n",
    "for i in range(length):\n",
    "    if second_max < t[i] < max_t:\n",
    "        second_max = t[i]\n",
    "        \n",
    "print(second_max)"
   ]
  },
  {
   "cell_type": "code",
   "execution_count": null,
   "id": "21235fb8-f5d5-496d-8830-db72c3d3e1ff",
   "metadata": {},
   "outputs": [],
   "source": [
    "#4.Write a program to check if a tuple contains duplicates"
   ]
  },
  {
   "cell_type": "code",
   "execution_count": 35,
   "id": "f6bf7d04-34b0-4c18-9f22-980c82e75359",
   "metadata": {},
   "outputs": [
    {
     "name": "stdout",
     "output_type": "stream",
     "text": [
      "Tuple contains Duplicates\n"
     ]
    }
   ],
   "source": [
    "tup = (1,2,3,4,5,1,2,8,3,5,2,1,5,4)\n",
    "\n",
    "for i in tup:\n",
    "    if tup.count(i) > 1:\n",
    "        print(\"Tuple contains Duplicates\")\n",
    "        break;\n",
    "else:\n",
    "    print(\"No Duplicates exists in the tuple\")"
   ]
  },
  {
   "cell_type": "code",
   "execution_count": null,
   "id": "b68456a0-6ff8-4874-ab1a-6b8f80b7aed7",
   "metadata": {},
   "outputs": [],
   "source": [
    "#5.Find the Index of an Element in a Tuple"
   ]
  },
  {
   "cell_type": "code",
   "execution_count": 43,
   "id": "3621989c-6b01-4e5e-94a6-f800ba07be43",
   "metadata": {},
   "outputs": [
    {
     "name": "stdout",
     "output_type": "stream",
     "text": [
      "Index of element 50: 4\n"
     ]
    }
   ],
   "source": [
    "Tuple = (10, 20, 30, 40, 50)\n",
    "index = Tuple.index(50)\n",
    "print(\"Index of element 50:\", index)\n"
   ]
  },
  {
   "cell_type": "code",
   "execution_count": null,
   "id": "07a3ae98-36e5-40f0-9ac9-dde3a3ac00e0",
   "metadata": {},
   "outputs": [],
   "source": [
    "#List"
   ]
  },
  {
   "cell_type": "code",
   "execution_count": null,
   "id": "0d10dee0-f8fe-4fc7-b6bb-867c55736335",
   "metadata": {},
   "outputs": [],
   "source": [
    "#1.Swap Two Elements in a List using comma assignment "
   ]
  },
  {
   "cell_type": "code",
   "execution_count": 5,
   "id": "dea3155c-7715-4436-b06b-f772add87c5a",
   "metadata": {},
   "outputs": [
    {
     "name": "stdout",
     "output_type": "stream",
     "text": [
      "[19, 65, 23, 90]\n"
     ]
    }
   ],
   "source": [
    "def swapPositions(list, pos1, pos2):\n",
    "     \n",
    "    list[pos1], list[pos2] = list[pos2], list[pos1]\n",
    "    return list\n",
    "    # Driver function\n",
    "List = [23, 65, 19, 90]\n",
    "pos1, pos2  = 1, 3\n",
    " \n",
    "print(swapPositions(List, pos1-1, pos2-1))"
   ]
  },
  {
   "cell_type": "code",
   "execution_count": 7,
   "id": "5c904d05-73be-4504-9ba6-ba804fdd6313",
   "metadata": {},
   "outputs": [],
   "source": [
    "#2.#Append the names in a new list which are present at even indexes.\n",
    "names = ['Himanshu','Swagath','Vijay','Gaya','Siddhant','Pavithra','Dhivya','Chetan','Bilal','Yashwanth','Yash','Jyothi','Shiny','Kajol','Jaspreet','Shankar','Rasika','Akash','Satyajit']"
   ]
  },
  {
   "cell_type": "code",
   "execution_count": 9,
   "id": "dc22b627-d5eb-4be3-b81b-64dbbf5a8c26",
   "metadata": {},
   "outputs": [
    {
     "name": "stdout",
     "output_type": "stream",
     "text": [
      "['Himanshu', 'Vijay', 'Siddhant', 'Dhivya', 'Bilal', 'Yash', 'Shiny', 'Jaspreet', 'Rasika', 'Satyajit']\n"
     ]
    }
   ],
   "source": [
    "new = []\n",
    "for i in range(len(names)):\n",
    "    if i%2==0:\n",
    "        new.append(names[i])\n",
    "    \n",
    "\n",
    "    \n",
    "print(new)"
   ]
  },
  {
   "cell_type": "code",
   "execution_count": 11,
   "id": "59ea75d2-6006-4681-8ddc-abdc1b3ef0af",
   "metadata": {},
   "outputs": [],
   "source": [
    "#3.#You have to take four new lists : TCS , HCL, COG, IBM\n",
    "#Append the empids given in the list into their respective company's list:\n",
    "\n",
    "comp = ['TCS101','HCL201','COG324','IBM322','TCS301','HCL2201','COG3124','IBM3212','TCS1101','HCL2001','COG3214','IBM3221','TCS1601','HCL6201','COG3924','IBM3228']\n"
   ]
  },
  {
   "cell_type": "code",
   "execution_count": 15,
   "id": "3c1434e2-9676-4722-98fe-823d1ab07837",
   "metadata": {},
   "outputs": [
    {
     "name": "stdout",
     "output_type": "stream",
     "text": [
      "TCS Employees Ids are: ['TCS101', 'TCS301', 'TCS1101', 'TCS1601']\n",
      "HCL Employees Ids are: ['HCL201', 'HCL2201', 'HCL2001', 'HCL6201']\n",
      "IBM Employees Ids are: ['IBM322', 'IBM3212', 'IBM3221', 'IBM3228']\n",
      "COG Employees Ids are: ['COG324', 'COG3124', 'COG3214', 'COG3924']\n"
     ]
    }
   ],
   "source": [
    "TCS = []\n",
    "HCL = []\n",
    "COG = []\n",
    "IBM = []\n",
    "for i in comp:\n",
    "    if i.startswith('TCS'):\n",
    "        TCS.append(i)\n",
    "    elif i.startswith('HCL'):\n",
    "        HCL.append(i)\n",
    "    elif i.startswith('COG'):\n",
    "        COG.append(i)\n",
    "    else:\n",
    "        IBM.append(i)\n",
    "    \n",
    "    \n",
    "print(\"TCS Employees Ids are:\", TCS)\n",
    "print(\"HCL Employees Ids are:\",HCL)\n",
    "print(\"IBM Employees Ids are:\",IBM)\n",
    "print(\"COG Employees Ids are:\",COG)"
   ]
  },
  {
   "cell_type": "code",
   "execution_count": 17,
   "id": "9247d967-fbc7-4534-8394-c73e89bbfb74",
   "metadata": {},
   "outputs": [],
   "source": [
    "#4.Check if 'Pavithra' is present in the list or not.\n",
    "names = ['Himanshu','Swagath','Vijay','Gaya','Siddhant','Pavithra','Dhivya','Chetan','Bilal','Yashwanth','Yash','Jyothi','Shiny','Kajol','Jaspreet','Shankar','Rasika','Akash','Satyajit']"
   ]
  },
  {
   "cell_type": "code",
   "execution_count": 19,
   "id": "07b291ca-8e5f-4ce3-9fe2-2d5a8ef703bc",
   "metadata": {},
   "outputs": [
    {
     "name": "stdout",
     "output_type": "stream",
     "text": [
      "Present\n"
     ]
    }
   ],
   "source": [
    "a = 'Pavithra'\n",
    "if a in names:\n",
    "    print(\"Present\")\n",
    "else:\n",
    "    print(\"Not Present\")"
   ]
  },
  {
   "cell_type": "code",
   "execution_count": 21,
   "id": "9fa32d49-b3a5-47f8-91f5-db723bdd1eff",
   "metadata": {},
   "outputs": [],
   "source": [
    "#5.Find the total number of male and female in the list\n",
    "gender = ['Female','Male','F','M','female','male','Female','Female','Male','F','M','female','male','Female','Female','Male','F','M','female','male','Female','Female','Male','F','M','female','male','Female','Female','Male','F','M','female','male','Female','Female','Male','F','M','female','male','Female','Female','Male','F','M','female','male','Female','Female','Male','F','M','female','male','Female','Female','Male','F','M','female','male','Female','Female','Male','F','M','female','male','Female','Female','Male','F','M','female','male','Female','Female','Male','F','M','female','male','Female','Female','Male','F','M','female','male','Female','Female','Male','F','M','female','male','Female','Female','Male','F','M','female','male','Female']"
   ]
  },
  {
   "cell_type": "code",
   "execution_count": 23,
   "id": "33e1c120-7f20-48fe-88fd-366ee9c34d95",
   "metadata": {},
   "outputs": [
    {
     "name": "stdout",
     "output_type": "stream",
     "text": [
      "Total number of females are:  60\n",
      "Total number of males are:  45\n"
     ]
    }
   ],
   "source": [
    "cf = 0\n",
    "cm = 0\n",
    "for i in gender:\n",
    "    if i.startswith('F') or i.startswith('f'):\n",
    "        cf = cf + 1\n",
    "    else:\n",
    "        cm = cm + 1\n",
    "        \n",
    "print(\"Total number of females are: \",cf)\n",
    "print(\"Total number of males are: \",cm)    "
   ]
  },
  {
   "cell_type": "code",
   "execution_count": null,
   "id": "93eb6379-d89a-4099-b8e2-3174458a6af9",
   "metadata": {},
   "outputs": [],
   "source": [
    "#set"
   ]
  },
  {
   "cell_type": "code",
   "execution_count": null,
   "id": "3213e35e-ef42-4092-a3a4-c941c1fda57d",
   "metadata": {},
   "outputs": [],
   "source": [
    "#1.Write a  program to find common elements in two sets."
   ]
  },
  {
   "cell_type": "code",
   "execution_count": 83,
   "id": "5b58db19-4f78-4bd7-93e9-1cae744acb2b",
   "metadata": {},
   "outputs": [
    {
     "name": "stdout",
     "output_type": "stream",
     "text": [
      "{3}\n"
     ]
    }
   ],
   "source": [
    "set_a = {1, 2, 3}\n",
    "set_b = {3, 4, 5}\n",
    "common_elements = set_a.intersection(set_b)\n",
    "print(common_elements)"
   ]
  },
  {
   "cell_type": "code",
   "execution_count": null,
   "id": "8644de0f-85a5-4769-9a36-134a7f937fef",
   "metadata": {},
   "outputs": [],
   "source": [
    "#2.Write a  program to check if one set is a subset of another."
   ]
  },
  {
   "cell_type": "code",
   "execution_count": 81,
   "id": "fa8886f0-4882-4793-9ea1-ff6b3a5649ff",
   "metadata": {},
   "outputs": [
    {
     "name": "stdout",
     "output_type": "stream",
     "text": [
      "True\n"
     ]
    }
   ],
   "source": [
    "numbers = {1, 2, 3, 4, 5}\n",
    "scores = {1, 2, 3}\n",
    "\n",
    "\n",
    "print(scores.issubset(numbers)) \n"
   ]
  },
  {
   "cell_type": "code",
   "execution_count": null,
   "id": "a16e26db-9c3e-4dad-9dc9-a453426a2e72",
   "metadata": {},
   "outputs": [],
   "source": [
    "#3.Find the Union of Two Sets"
   ]
  },
  {
   "cell_type": "code",
   "execution_count": 79,
   "id": "1e73f4f5-2543-44bb-b598-857dba65ebdb",
   "metadata": {},
   "outputs": [
    {
     "name": "stdout",
     "output_type": "stream",
     "text": [
      "Union of set_A and set_B: {1, 2, 3, 4, 5, 6, 7, 8}\n"
     ]
    }
   ],
   "source": [
    "# Define two sets\n",
    "set_A = {1, 3, 5, 7}\n",
    "set_B = {2, 4, 6, 8}\n",
    "\n",
    "# Find the union using the union() method\n",
    "union_result = set_A.union(set_B)\n",
    "\n",
    "\n",
    "print(\"Union of set_A and set_B:\", union_result)\n"
   ]
  },
  {
   "cell_type": "code",
   "execution_count": null,
   "id": "6cafaba2-b222-4140-a992-2483ff11c20b",
   "metadata": {},
   "outputs": [],
   "source": [
    "#4.Write a program to iterate over the elements of a set."
   ]
  },
  {
   "cell_type": "code",
   "execution_count": 31,
   "id": "bbe0b63d-f93a-4e83-83ce-e497dc4136ee",
   "metadata": {},
   "outputs": [
    {
     "name": "stdout",
     "output_type": "stream",
     "text": [
      "Elements in the set:\n",
      "1\n",
      "2\n",
      "3\n",
      "4\n",
      "5\n"
     ]
    }
   ],
   "source": [
    "def iterate_set(s):\n",
    "    for element in s:\n",
    "        print(element)\n",
    "numbers = {1, 2, 3, 4, 5}\n",
    "print(\"Elements in the set:\")\n",
    "iterate_set(numbers)"
   ]
  },
  {
   "cell_type": "code",
   "execution_count": null,
   "id": "a41ae0b6-0acd-4502-ba0f-8ec4b81d2541",
   "metadata": {},
   "outputs": [],
   "source": [
    "#5.Remove Elements from Set using the pop() Method"
   ]
  },
  {
   "cell_type": "code",
   "execution_count": 69,
   "id": "1115717f-7974-4271-a7aa-a875e3fe4158",
   "metadata": {},
   "outputs": [
    {
     "name": "stdout",
     "output_type": "stream",
     "text": [
      "{9, 10, 12, 13, 15}\n",
      "{10, 12, 13, 15}\n",
      "{12, 13, 15}\n",
      "{13, 15}\n",
      "{15}\n",
      "set()\n"
     ]
    }
   ],
   "source": [
    "def Remove(initial_set):\n",
    "    while initial_set:\n",
    "        initial_set.pop()\n",
    "        print(initial_set)\n",
    " \n",
    " \n",
    "initial_set = set([12, 10, 13, 15, 8, 9])\n",
    "Remove(initial_set)\n"
   ]
  },
  {
   "cell_type": "code",
   "execution_count": null,
   "id": "b13dd47c-419c-425f-8d72-89d442226050",
   "metadata": {},
   "outputs": [],
   "source": [
    "#Dictionaries"
   ]
  },
  {
   "cell_type": "code",
   "execution_count": null,
   "id": "de21240e-39e1-484d-8c39-9e6e0a668c16",
   "metadata": {},
   "outputs": [],
   "source": [
    "#1.sort the dictionary by keys and the result type will be a dictionary. "
   ]
  },
  {
   "cell_type": "code",
   "execution_count": 51,
   "id": "2ae052d1-010d-4459-8e9e-4966d6c93e15",
   "metadata": {},
   "outputs": [
    {
     "name": "stdout",
     "output_type": "stream",
     "text": [
      "{'anu': 15, 'devika': 10, 'rajnish': 9, 'suraj': 32, 'yash': 2}\n"
     ]
    }
   ],
   "source": [
    "myDict = {'devika': 10, 'rajnish': 9,\n",
    "        'anu': 15, 'yash': 2, 'suraj': 32}\n",
    "\n",
    "myKeys = list(myDict.keys())\n",
    "myKeys.sort()\n",
    "sorted_dict = {i: myDict[i] for i in myKeys}\n",
    "\n",
    "print(sorted_dict)"
   ]
  },
  {
   "cell_type": "code",
   "execution_count": null,
   "id": "d2ec897b-9d8a-4bd7-a6eb-6321baa6311b",
   "metadata": {},
   "outputs": [],
   "source": [
    "#2. Write a program to add a key-value pair to a dictionary."
   ]
  },
  {
   "cell_type": "code",
   "execution_count": 77,
   "id": "2be87f5d-0732-4885-9711-3c2bf44ac4c1",
   "metadata": {},
   "outputs": [
    {
     "name": "stdout",
     "output_type": "stream",
     "text": [
      "{1: 'Geeks', 2: 'forGeeks'}\n"
     ]
    }
   ],
   "source": [
    "class MyDictionary(dict):\n",
    "    def add(self, key, value):\n",
    "        self[key] = value\n",
    "\n",
    "dict_obj = MyDictionary()\n",
    "dict_obj.add(1, 'Geeks')\n",
    "dict_obj.add(2, 'forGeeks')\n",
    "print(dict_obj)"
   ]
  },
  {
   "cell_type": "code",
   "execution_count": null,
   "id": "2c5e6255-d6cc-4218-a0e1-e77bcff2c490",
   "metadata": {},
   "outputs": [],
   "source": [
    "#3.Write a  program to create a dictionary from two lists."
   ]
  },
  {
   "cell_type": "code",
   "execution_count": 75,
   "id": "c7659976-41cf-4210-952e-69745b66bf7b",
   "metadata": {},
   "outputs": [
    {
     "name": "stdout",
     "output_type": "stream",
     "text": [
      "{'nik': 32, 'katie': 31, 'james': 34}\n"
     ]
    }
   ],
   "source": [
    "names = ['nik', 'katie', 'james']\n",
    "ages = [32, 31, 34]\n",
    "\n",
    "dictionary = dict(zip(names, ages))\n",
    "print(dictionary)\n"
   ]
  },
  {
   "cell_type": "code",
   "execution_count": 53,
   "id": "d9c8bd81-7194-4234-a223-19c8c7539d84",
   "metadata": {},
   "outputs": [],
   "source": [
    "#4.Write a  program to merge two dictionaries."
   ]
  },
  {
   "cell_type": "code",
   "execution_count": 73,
   "id": "e659f9f6-a892-4826-981a-51654f5778ad",
   "metadata": {},
   "outputs": [
    {
     "name": "stdout",
     "output_type": "stream",
     "text": [
      "{2: 'b', 4: 'd', 1: 'a'}\n"
     ]
    }
   ],
   "source": [
    "dict1 = {1: 'a', 2: 'b'}\n",
    "dict2 = {2: 'c', 4: 'd'}\n",
    "dict3 = dict2.copy()\n",
    "dict3.update(dict1)\n",
    "print(dict3)"
   ]
  },
  {
   "cell_type": "code",
   "execution_count": 67,
   "id": "af7185d9-6d7a-4a97-8979-876a0b46103e",
   "metadata": {},
   "outputs": [],
   "source": [
    "#5."
   ]
  },
  {
   "cell_type": "code",
   "execution_count": null,
   "id": "b4ef1b19-307e-43ea-b449-fc8e92de15dd",
   "metadata": {},
   "outputs": [],
   "source": []
  },
  {
   "cell_type": "code",
   "execution_count": null,
   "id": "e6d9e538-474a-450a-be8d-7baf989acecc",
   "metadata": {},
   "outputs": [],
   "source": [
    "#Looping statements"
   ]
  },
  {
   "cell_type": "code",
   "execution_count": 99,
   "id": "474307aa-6faa-449d-960f-cd1d89058cd0",
   "metadata": {},
   "outputs": [
    {
     "name": "stdout",
     "output_type": "stream",
     "text": [
      "39\n",
      "31\n",
      "121\n"
     ]
    }
   ],
   "source": [
    "#1.#Print only the odd numbers from the given list using the for loop:\n",
    "data = [88,39,80,31,70,90,100,121]\n",
    "for i in data:\n",
    "    if i%2!=0:\n",
    "        print(i)"
   ]
  },
  {
   "cell_type": "code",
   "execution_count": 101,
   "id": "9c774943-7489-4bb8-a6f2-2b051781e804",
   "metadata": {},
   "outputs": [
    {
     "name": "stdout",
     "output_type": "stream",
     "text": [
      "1 39\n",
      "3 31\n",
      "7 121\n"
     ]
    }
   ],
   "source": [
    "#2.#Print only the odd values and their indexes from the given list using the while loop:(Running the loop on indexes)\n",
    "i = 0\n",
    "while i<8:                 \n",
    "    if data[i] % 2 != 0:   \n",
    "        print(i, data[i])\n",
    "    i = i + 1\n"
   ]
  },
  {
   "cell_type": "code",
   "execution_count": 103,
   "id": "3755cb6e-dd98-4a8e-8933-05b1475ef0c3",
   "metadata": {},
   "outputs": [
    {
     "name": "stdin",
     "output_type": "stream",
     "text": [
      "Enter a number 5\n"
     ]
    },
    {
     "name": "stdout",
     "output_type": "stream",
     "text": [
      "120\n"
     ]
    }
   ],
   "source": [
    "#3.#Factorial using the for loop:\n",
    "a = int(input(\"Enter a number\"))\n",
    "r = 1                                        \n",
    "for i in range(1,(a+1)):    \n",
    "    r = r * i\n",
    "print(r)"
   ]
  },
  {
   "cell_type": "code",
   "execution_count": 105,
   "id": "127b0e72-0f7d-489d-b2d4-564d157d332b",
   "metadata": {},
   "outputs": [
    {
     "name": "stdout",
     "output_type": "stream",
     "text": [
      "$\n",
      "$$\n",
      "$$$\n",
      "$$$$\n",
      "$$$$$\n"
     ]
    }
   ],
   "source": [
    "#4.#Right angle triangle pattern for '$'\n",
    "for i in range(0,5):\n",
    "    for j in range(i+1):         \n",
    "        print('$',end = '')\n",
    "    print()"
   ]
  },
  {
   "cell_type": "code",
   "execution_count": 107,
   "id": "c18a74f9-105f-444e-9abc-0ca367729439",
   "metadata": {},
   "outputs": [
    {
     "name": "stdout",
     "output_type": "stream",
     "text": [
      "Satya\n",
      "Pavs\n",
      "Bilal\n",
      "Yash\n",
      "Himan\n"
     ]
    }
   ],
   "source": [
    "#5.#Get only the names from the list using break statement in the loop.(for loop ; loop on values)\n",
    "li = ['Satya','Pavs','Bilal','Yash','Himan',2,32,283,20,387,28,19]  #heterogenous list\n",
    "for i in li:\n",
    "    if type(i) == int:\n",
    "        break\n",
    "    print(i)"
   ]
  },
  {
   "cell_type": "code",
   "execution_count": null,
   "id": "4addb563-c7ce-44fd-9954-a6776d7ee503",
   "metadata": {},
   "outputs": [],
   "source": [
    "#UDF:USER DEFIND FUNCTION"
   ]
  },
  {
   "cell_type": "code",
   "execution_count": 109,
   "id": "48f6aeaf-4d50-4b5a-95c9-105af3ea3e0d",
   "metadata": {},
   "outputs": [
    {
     "data": {
      "text/plain": [
       "20"
      ]
     },
     "execution_count": 109,
     "metadata": {},
     "output_type": "execute_result"
    }
   ],
   "source": [
    "1#.Create a UDF which gives the median of any five random values?\n",
    "data = [20,9,35,45,5]\n",
    "def med_four(l):             \n",
    "    s = sorted(l)\n",
    "    pos = len(s)//2          \n",
    "    return s[pos]            \n",
    "med_four(data)"
   ]
  },
  {
   "cell_type": "code",
   "execution_count": 111,
   "id": "13fea2f3-0e12-47a4-94e6-d62333a8c2e5",
   "metadata": {},
   "outputs": [
    {
     "name": "stdin",
     "output_type": "stream",
     "text": [
      "Enter first name Undertaker\n",
      "Enter second name Dwayne Johnson\n",
      "Enter third name shah Rukh Khan\n"
     ]
    },
    {
     "name": "stdout",
     "output_type": "stream",
     "text": [
      "shah Rukh Khan has 14 no of characters.\n"
     ]
    }
   ],
   "source": [
    "2#.Create a UDF which gives the name having the max no of characters.\n",
    "\n",
    "name1 = input(\"Enter first name\")\n",
    "name2 = input(\"Enter second name\")\n",
    "name3 = input(\"Enter third name\")\n",
    "def name_max(a,b,c):                                  #Positional arguments\n",
    "    if len(a) > len(b) and len(a)> len(c):\n",
    "        print(a , \"has\", len(a),\"no of characters.\")\n",
    "    elif len(b) > len(a) and len(b)> len(c):\n",
    "        print(b , \"has\", len(b),\"no of characters.\")\n",
    "    else:\n",
    "        print(c , \"has\", len(c),\"no of characters.\")\n",
    "        \n",
    "        \n",
    "        \n",
    "name_max(name1,name2,name3)"
   ]
  },
  {
   "cell_type": "code",
   "execution_count": 113,
   "id": "3f2900c2-531f-4d71-a10e-a360a25ac939",
   "metadata": {},
   "outputs": [
    {
     "name": "stdout",
     "output_type": "stream",
     "text": [
      "['Allu', 'Arjun', 'Arun']\n"
     ]
    }
   ],
   "source": [
    "#3.Create a UDF which gives only the names starting with 'A' as an output. You can take names in a list or as an input\n",
    "\n",
    "names = ['Allu', 'Sankar', 'Arjun', 'Venky','Zahid','Arun']\n",
    "\n",
    "\n",
    "# print(names[0].startswith('A'))\n",
    "answer = []\n",
    "def names_start_with_A (names):\n",
    "    for i in names:\n",
    "        if i.startswith('A'):\n",
    "         answer.append(i)\n",
    "\n",
    "names_start_with_A(names)\n",
    "\n",
    "print(answer)"
   ]
  },
  {
   "cell_type": "code",
   "execution_count": 115,
   "id": "b6b414cf-b964-4363-8551-9aa3a39a6f67",
   "metadata": {},
   "outputs": [
    {
     "data": {
      "text/plain": [
       "10"
      ]
     },
     "execution_count": 115,
     "metadata": {},
     "output_type": "execute_result"
    }
   ],
   "source": [
    "#4.#Create a UDF which gives the mean and median of any random 6 values.\n",
    "data = [10,5,17,11,14,4,8]\n",
    "def desc_six(l):                 \n",
    "    mean = sum(l)/len(l)\n",
    "    s = sorted(l)\n",
    "    if len(s) %2 ==0:\n",
    "        pos1 = len(s)//2\n",
    "        pos2 = (len(s)//2) + 1\n",
    "        median = (s[pos1] + s[pos2])/2\n",
    "        return median\n",
    "    else:\n",
    "        pos = len(s)//2          \n",
    "        return s[pos]\n",
    "    \n",
    "    \n",
    "desc_six(data)"
   ]
  },
  {
   "cell_type": "code",
   "execution_count": 117,
   "id": "1d1ef233-4456-43e0-9304-16516f054c8d",
   "metadata": {},
   "outputs": [
    {
     "name": "stdout",
     "output_type": "stream",
     "text": [
      "3.5 4\n"
     ]
    }
   ],
   "source": [
    "5#.Create a UDF which gives the mean and median of any random 6 values.\n",
    "\n",
    "numbers =  [1,3,2,5,4,6]\n",
    "def mean (data):\n",
    "    su = sum(data)\n",
    "    le = len(data)\n",
    "    mean = su/le\n",
    "    return mean\n",
    "\n",
    "avg = mean(numbers)\n",
    "\n",
    "\n",
    "\n",
    "def median (data):\n",
    "    sort_list = sorted(data)\n",
    "    pos= len(sort_list)//2\n",
    "    return sort_list[pos]\n",
    "\n",
    "avg = mean(numbers)\n",
    "median_number = median(numbers)\n",
    "\n",
    "print(avg, median_number)"
   ]
  },
  {
   "cell_type": "code",
   "execution_count": null,
   "id": "2741043b-1866-45f6-8ba8-c69a31a5f9a0",
   "metadata": {},
   "outputs": [],
   "source": [
    "#iterator"
   ]
  },
  {
   "cell_type": "code",
   "execution_count": null,
   "id": "fc5191ee-483b-4d1f-a7c8-c7d0f8bc8d0d",
   "metadata": {},
   "outputs": [],
   "source": [
    "#1.Return an iterator from a tuple, and print each value:"
   ]
  },
  {
   "cell_type": "code",
   "execution_count": 119,
   "id": "2033d7e3-5078-4e7a-8fd1-09ca404047f9",
   "metadata": {},
   "outputs": [
    {
     "name": "stdout",
     "output_type": "stream",
     "text": [
      "apple\n",
      "banana\n",
      "cherry\n"
     ]
    }
   ],
   "source": [
    "mytuple = (\"apple\", \"banana\", \"cherry\")\n",
    "myit = iter(mytuple)\n",
    "\n",
    "print(next(myit))\n",
    "print(next(myit))\n",
    "print(next(myit))"
   ]
  },
  {
   "cell_type": "code",
   "execution_count": null,
   "id": "d30cc35e-d797-4352-9986-ee0b61d40a23",
   "metadata": {},
   "outputs": [],
   "source": [
    "#2.Create an iterator that returns numbers, starting with 1, and each sequence will increase by one (returning 1,2,3,4,5 etc.):"
   ]
  },
  {
   "cell_type": "code",
   "execution_count": 121,
   "id": "78221fff-d685-4e5d-badf-a804cc149956",
   "metadata": {},
   "outputs": [
    {
     "name": "stdout",
     "output_type": "stream",
     "text": [
      "1\n",
      "2\n",
      "3\n",
      "4\n",
      "5\n"
     ]
    }
   ],
   "source": [
    "class MyNumbers:\n",
    "  def __iter__(self):\n",
    "    self.a = 1\n",
    "    return self\n",
    "\n",
    "  def __next__(self):\n",
    "    x = self.a\n",
    "    self.a += 1\n",
    "    return x\n",
    "\n",
    "myclass = MyNumbers()\n",
    "myiter = iter(myclass)\n",
    "\n",
    "print(next(myiter))\n",
    "print(next(myiter))\n",
    "print(next(myiter))\n",
    "print(next(myiter))\n",
    "print(next(myiter))"
   ]
  },
  {
   "cell_type": "code",
   "execution_count": null,
   "id": "c4fdbc04-f485-4f8d-a621-3005e618cabb",
   "metadata": {},
   "outputs": [],
   "source": [
    "#3.Iterate the characters of a string"
   ]
  },
  {
   "cell_type": "code",
   "execution_count": 123,
   "id": "2dea7dac-8194-4175-8864-2da2f3a638c1",
   "metadata": {},
   "outputs": [
    {
     "name": "stdout",
     "output_type": "stream",
     "text": [
      "b\n",
      "a\n",
      "n\n",
      "a\n",
      "n\n",
      "a\n"
     ]
    }
   ],
   "source": [
    "mystr = \"banana\"\n",
    "\n",
    "for x in mystr:\n",
    "  print(x)\n",
    "\n"
   ]
  },
  {
   "cell_type": "code",
   "execution_count": null,
   "id": "451432a0-c42e-45e5-9f78-dee62e7ba695",
   "metadata": {},
   "outputs": [],
   "source": [
    "#4.Create a generator through which we can do iteration?"
   ]
  },
  {
   "cell_type": "code",
   "execution_count": 52,
   "id": "c94e0be8-3d45-4960-8c2d-270863139cca",
   "metadata": {},
   "outputs": [],
   "source": [
    "def square_gen(n):\n",
    "    for i in range(n):\n",
    "        yield i**2              #yield creates and gives the object(generator), it does not gives the values.It gets stopped."
   ]
  },
  {
   "cell_type": "code",
   "execution_count": 54,
   "id": "4db18a33-07f1-4ecd-8001-dc2c42bae3d6",
   "metadata": {},
   "outputs": [
    {
     "data": {
      "text/plain": [
       "<generator object square_gen at 0x00000128106E3D30>"
      ]
     },
     "execution_count": 54,
     "metadata": {},
     "output_type": "execute_result"
    }
   ],
   "source": [
    "a = square_gen(5)\n",
    "a"
   ]
  },
  {
   "cell_type": "code",
   "execution_count": 56,
   "id": "1cafbf8e-3ae6-432e-879b-47fb3974680d",
   "metadata": {},
   "outputs": [
    {
     "data": {
      "text/plain": [
       "0"
      ]
     },
     "execution_count": 56,
     "metadata": {},
     "output_type": "execute_result"
    }
   ],
   "source": [
    "next(a)                  #With the help of generator, we can do the iteration."
   ]
  },
  {
   "cell_type": "code",
   "execution_count": null,
   "id": "d5229e49-99cc-435a-b1be-c5cf1cd23d7f",
   "metadata": {},
   "outputs": [],
   "source": [
    "#Lambda"
   ]
  },
  {
   "cell_type": "code",
   "execution_count": null,
   "id": "aa0034e5-ecd8-4cac-ad22-86cf20886c50",
   "metadata": {},
   "outputs": [],
   "source": [
    "1#.Using the lambda, you have to get the floor value of each of the value given in the original list."
   ]
  },
  {
   "cell_type": "code",
   "execution_count": 125,
   "id": "a646d50e-bef0-4d9e-abe1-9f613d2466c8",
   "metadata": {},
   "outputs": [
    {
     "data": {
      "text/plain": [
       "[4, 6, 12, 5, 2, 1, 3]"
      ]
     },
     "execution_count": 125,
     "metadata": {},
     "output_type": "execute_result"
    }
   ],
   "source": [
    "data = [23.456,34.987,60.2826,27.2727,14.3898,9.2272,15.878937] \n",
    "list(map(lambda l:int(l//5),data))"
   ]
  },
  {
   "cell_type": "code",
   "execution_count": null,
   "id": "aa1cdd08-c81e-4059-b0b2-8a09fb0258f0",
   "metadata": {},
   "outputs": [],
   "source": [
    "#2.Multiply each value of the list by 10."
   ]
  },
  {
   "cell_type": "code",
   "execution_count": 127,
   "id": "cdd15fdd-6a9d-4493-9881-43ac22b95640",
   "metadata": {},
   "outputs": [
    {
     "data": {
      "text/plain": [
       "[100, 200, 300, 400, 500]"
      ]
     },
     "execution_count": 127,
     "metadata": {},
     "output_type": "execute_result"
    }
   ],
   "source": [
    "l = [10,20,30,40,50]\n",
    "list(map(lambda i:i*10,l))"
   ]
  },
  {
   "cell_type": "code",
   "execution_count": null,
   "id": "dc1738f9-5668-4e8d-9450-05673e30af8f",
   "metadata": {},
   "outputs": [],
   "source": [
    "#3.#Get those even values which are greater than 50 from the list using lambda function."
   ]
  },
  {
   "cell_type": "code",
   "execution_count": 129,
   "id": "0ca2b394-9681-4683-9576-6eed1e05e523",
   "metadata": {},
   "outputs": [
    {
     "data": {
      "text/plain": [
       "[66, 96, 60, 72, 84]"
      ]
     },
     "execution_count": 129,
     "metadata": {},
     "output_type": "execute_result"
    }
   ],
   "source": [
    "F = [12,35,66,9,96,25,39,33,45,48,60,72,77,84,91,3,21]\n",
    "list(filter(lambda l:l%2==0 and l>50,F))"
   ]
  },
  {
   "cell_type": "code",
   "execution_count": null,
   "id": "876ab210-3428-4e9f-a7f5-4b9438a7e40c",
   "metadata": {},
   "outputs": [],
   "source": [
    "#4.Multiply argument a with argument b and return the result:"
   ]
  },
  {
   "cell_type": "code",
   "execution_count": 131,
   "id": "f73b309e-91f6-453b-93cf-b3f9c437ae84",
   "metadata": {},
   "outputs": [
    {
     "name": "stdout",
     "output_type": "stream",
     "text": [
      "30\n"
     ]
    }
   ],
   "source": [
    "x = lambda a, b : a * b\n",
    "print(x(5, 6))"
   ]
  },
  {
   "cell_type": "code",
   "execution_count": null,
   "id": "ed5bfe0a-9795-4496-b7ed-04ce607f2bcf",
   "metadata": {},
   "outputs": [],
   "source": [
    "#5.#Using the lambda function, get the names of the cricketers from the list whose names are starting with vowels.\n",
    "Cricketers = ['Sachin Tendulkar','Brain Lara','Ricky Ponting','Jaques Kallis','Adam Gilchrist','Virat Kohli','Mahendra Singh Dhoni','Sunil Gavaskar','Rohit Sharma','Virendra Sehwag','Rahul Dravid','Shane Warne','Kane Williamson','Trent Boult','Sanath Jayasuriya','James Anderson']"
   ]
  },
  {
   "cell_type": "code",
   "execution_count": 1,
   "id": "979d110e-d612-46cf-94df-d5cae479c098",
   "metadata": {},
   "outputs": [
    {
     "name": "stdout",
     "output_type": "stream",
     "text": [
      "['Adam Gilchrist']\n"
     ]
    }
   ],
   "source": [
    "# List of cricketers\n",
    "Cricketers = [\n",
    "    'Sachin Tendulkar', 'Brain Lara', 'Ricky Ponting', 'Jaques Kallis', 'Adam Gilchrist',\n",
    "    'Virat Kohli', 'Mahendra Singh Dhoni', 'Sunil Gavaskar', 'Rohit Sharma', 'Virendra Sehwag',\n",
    "    'Rahul Dravid', 'Shane Warne', 'Kane Williamson', 'Trent Boult', 'Sanath Jayasuriya', 'James Anderson'\n",
    "]\n",
    "\n",
    "# Lambda function to check if a name starts with a vowel\n",
    "starts_with_vowel = lambda name: name[0].lower() in 'aeiou'\n",
    "\n",
    "# Filter the list using the lambda function\n",
    "vowel_cricketers = list(filter(starts_with_vowel, Cricketers))\n",
    "\n",
    "# Print the names of cricketers starting with vowels\n",
    "print(vowel_cricketers)\n"
   ]
  },
  {
   "cell_type": "code",
   "execution_count": null,
   "id": "21060605-0b53-419f-906f-6c361440e834",
   "metadata": {},
   "outputs": [],
   "source": [
    "#OOPS Concept##"
   ]
  },
  {
   "cell_type": "code",
   "execution_count": null,
   "id": "9396201f-257c-46bb-bffd-5d53ce21b2ee",
   "metadata": {},
   "outputs": [],
   "source": [
    "#1.Single Inheritance: one parent-child relationship"
   ]
  },
  {
   "cell_type": "code",
   "execution_count": 5,
   "id": "0c96f501-5f63-46c8-9089-fdbcccac7407",
   "metadata": {},
   "outputs": [
    {
     "name": "stdout",
     "output_type": "stream",
     "text": [
      "The capital of Uttar Pradesh is Lucknow.\n",
      "You can visit Pacific Mall in Ghaziabad\n"
     ]
    }
   ],
   "source": [
    "class State:\n",
    "    state = \"Uttar Pradesh\"\n",
    "    capital = \"Lucknow\"\n",
    "    def show_info(self):\n",
    "        print(f'The capital of {self.state} is {self.capital}.')\n",
    "\n",
    "class City(State):\n",
    "    city = \"Ghaziabad\"\n",
    "    mall = 'Pacific Mall'\n",
    "    def gzb_info(self):\n",
    "        print(f'You can visit {self.mall} in {self.city}')\n",
    "        \n",
    "        \n",
    "c1 = City()\n",
    "c1.show_info()\n",
    "c1.gzb_info()\n",
    "    "
   ]
  },
  {
   "cell_type": "code",
   "execution_count": null,
   "id": "a52546fc-aa4c-426e-a1ce-d4fcf293416b",
   "metadata": {},
   "outputs": [],
   "source": [
    "#2.Hierarchial Inheritance: One base class and multiple child class."
   ]
  },
  {
   "cell_type": "code",
   "execution_count": 7,
   "id": "fe0d1198-429c-4ebc-ad1e-0113cc1d5029",
   "metadata": {},
   "outputs": [
    {
     "name": "stdout",
     "output_type": "stream",
     "text": [
      "The new car belongs to Hyundai Motors.\n",
      "A brand new Black car which was launched at Auto Expo 2024 in Gurgaon is a Hatchbag with a top speed of 200 kmph.\n",
      "The new car belongs to Mahindra Motors.\n",
      "A brand new Black car which was launched at Auto Expo 2024 in Gurgaon is a Hatchbag with a top speed of 200 kmph.\n"
     ]
    }
   ],
   "source": [
    "class Car:\n",
    "    event = \"Auto Expo 2024\"\n",
    "    city = \"Gurgaon\"\n",
    "    color = \"Black\"\n",
    "    top_speed = 200\n",
    "    type_s = \"Hatchbag\"\n",
    "    def about_car(self):\n",
    "        print(f'A brand new {self.color} car which was launched at {self.event} in {self.city} is a {self.type_s} with a top speed of {self.top_speed} kmph.')\n",
    "        \n",
    "class Mahindra(Car):\n",
    "    def mah_info(self):\n",
    "        print(f'The new car belongs to Mahindra Motors.')\n",
    "        \n",
    "class Hyundai(Car):\n",
    "    def hyun_info(self):\n",
    "        print(f'The new car belongs to Hyundai Motors.')\n",
    "        \n",
    "h1 = Hyundai()\n",
    "h1.hyun_info()\n",
    "h1.about_car()\n",
    "m1 = Mahindra()\n",
    "m1.mah_info()\n",
    "m1.about_car()\n",
    "        "
   ]
  },
  {
   "cell_type": "code",
   "execution_count": null,
   "id": "9e8d7185-dfd5-446a-8252-257867cbe183",
   "metadata": {},
   "outputs": [],
   "source": [
    "#3. Multilevel Inheritance"
   ]
  },
  {
   "cell_type": "code",
   "execution_count": 9,
   "id": "5f37b3b0-072d-4c26-8fc2-d9502ccd467e",
   "metadata": {},
   "outputs": [
    {
     "name": "stdout",
     "output_type": "stream",
     "text": [
      "I am C\n",
      "I am B\n",
      "I am A\n"
     ]
    }
   ],
   "source": [
    "class A:\n",
    "    def a_feature(self):\n",
    "        print(\"I am A\")\n",
    "        \n",
    "        \n",
    "class B(A):\n",
    "    def b_feature(self):\n",
    "        print(\"I am B\")\n",
    "        \n",
    "class C(B):\n",
    "    def c_feature(self):\n",
    "        print(\"I am C\")\n",
    "        \n",
    "        \n",
    "c1 = C()\n",
    "c1.c_feature()\n",
    "c1.b_feature()\n",
    "c1.a_feature()\n",
    "#b1 = B()\n",
    "#b1.b_feature()\n",
    "#b1.a_feature()"
   ]
  },
  {
   "cell_type": "code",
   "execution_count": null,
   "id": "372686f7-92a3-4f15-b4f6-77608d8dad10",
   "metadata": {},
   "outputs": [],
   "source": [
    "#4.Multiple Inheritance: multiple parent classes with one base class."
   ]
  },
  {
   "cell_type": "code",
   "execution_count": 11,
   "id": "7a195a7c-7b50-49a2-a84a-6d3d95eb8cc4",
   "metadata": {},
   "outputs": [
    {
     "name": "stdout",
     "output_type": "stream",
     "text": [
      "I am the son/daughter.\n",
      "I am mother.\n",
      "I am father.\n"
     ]
    }
   ],
   "source": [
    "class Father:\n",
    "    def pat(self):\n",
    "        print(\"I am father.\")\n",
    "        \n",
    "class Mother:\n",
    "    def mam(self):\n",
    "        print(\"I am mother.\")\n",
    "        \n",
    "class Child(Father, Mother):\n",
    "    def info(self):\n",
    "        print(\"I am the son/daughter.\")\n",
    "        \n",
    "c1  = Child()\n",
    "c1.info()\n",
    "c1.mam()\n",
    "c1.pat()\n",
    "    "
   ]
  },
  {
   "cell_type": "code",
   "execution_count": null,
   "id": "0f98da00-9170-4b2f-9372-541edd5e852e",
   "metadata": {},
   "outputs": [],
   "source": [
    "#5.Method Resolution Order: Methods of same names in more than one the classes."
   ]
  },
  {
   "cell_type": "code",
   "execution_count": 15,
   "id": "6ffbbe32-8306-4d37-a5e1-036634425cf0",
   "metadata": {},
   "outputs": [
    {
     "name": "stdout",
     "output_type": "stream",
     "text": [
      "Mother\n"
     ]
    }
   ],
   "source": [
    "class Father:\n",
    "    def info(self):\n",
    "        print(\"Father\")\n",
    "    def new_info_2(self):\n",
    "        print(\"Mother\")\n",
    "        \n",
    "class Mother:\n",
    "    def info(self):\n",
    "        print(\"Mother\")\n",
    "    def new_info_1(self):\n",
    "        print(\"Mother\")\n",
    "        \n",
    "class Son(Father, Mother):\n",
    "    def info(self):\n",
    "        print(\"Son\")\n",
    "    def info_1(self):\n",
    "        print(\"Son\")\n",
    "        \n",
    "class Daughter(Father, Mother):\n",
    "    def new_info(self):\n",
    "        print(\"Daughter\")\n",
    "    def info_2(self):\n",
    "        print(\"Son\")\n",
    "    \n",
    "        \n",
    "c1  = Daughter()\n",
    "c1.new_info_1()"
   ]
  },
  {
   "cell_type": "code",
   "execution_count": null,
   "id": "cb9d0f58-14bd-48fb-a00a-f422b466d037",
   "metadata": {},
   "outputs": [],
   "source": [
    "#Polymorphism "
   ]
  },
  {
   "cell_type": "code",
   "execution_count": null,
   "id": "15c8c494-92c5-4202-a252-6f92cec6702a",
   "metadata": {},
   "outputs": [],
   "source": [
    "#1.sum of these three parameters."
   ]
  },
  {
   "cell_type": "code",
   "execution_count": 19,
   "id": "589d9f5b-6421-4f92-8ec7-78b9fc5c19ac",
   "metadata": {},
   "outputs": [
    {
     "name": "stdout",
     "output_type": "stream",
     "text": [
      "5\n",
      "9\n"
     ]
    }
   ],
   "source": [
    "def add(x, y, z = 0): \n",
    "    return x + y+z\n",
    "\n",
    "#driver code\n",
    "print(add(2,3))\n",
    "print(add(2,3,4))"
   ]
  },
  {
   "cell_type": "code",
   "execution_count": null,
   "id": "9b730643-6a36-4bca-b562-81af279a6466",
   "metadata": {},
   "outputs": [],
   "source": [
    "#2.overriding in polymorphism"
   ]
  },
  {
   "cell_type": "code",
   "execution_count": 21,
   "id": "1826bd3b-a8ee-42d3-8509-b035e91abe4c",
   "metadata": {},
   "outputs": [
    {
     "name": "stdout",
     "output_type": "stream",
     "text": [
      "Bark\n"
     ]
    }
   ],
   "source": [
    "class Animal:\n",
    "    def sound(self):\n",
    "        return \"Some sound\"\n",
    "\n",
    "class Dog(Animal):\n",
    "    def sound(self):\n",
    "        return \"Bark\"\n",
    "\n",
    "dog = Dog()\n",
    "print(dog.sound())"
   ]
  },
  {
   "cell_type": "code",
   "execution_count": null,
   "id": "9fd3f016-d800-41aa-a3c2-5c91dfa28df9",
   "metadata": {},
   "outputs": [],
   "source": [
    "#3.#simplest example\n",
    "#how different classes can have methods with the same name but perform different actions based on the attributes defined within each class."
   ]
  },
  {
   "cell_type": "code",
   "execution_count": 23,
   "id": "a2fd8175-c38d-4a8b-8dd1-2b1c680f5ad6",
   "metadata": {},
   "outputs": [
    {
     "name": "stdout",
     "output_type": "stream",
     "text": [
      "Jyoti Dhage\n"
     ]
    }
   ],
   "source": [
    "\n",
    "class A:\n",
    "    a = 10\n",
    "    b = 20\n",
    "    def show_info(self):\n",
    "        print(self.a+ self.b)\n",
    "        \n",
    "class B:\n",
    "    a = \"Jyoti\"\n",
    "    b = \"Dhage\"\n",
    "    def show_info(self):\n",
    "        print(self.a+\" \"+self.b)\n",
    "        \n",
    "obj2 = B()\n",
    "obj2.show_info()"
   ]
  },
  {
   "cell_type": "code",
   "execution_count": null,
   "id": "6482032d-45a1-45bf-a5bb-c289a86514f0",
   "metadata": {},
   "outputs": [],
   "source": [
    "#4.How Polymorphism can be achieved?\n",
    "#Method Overloading: You have to use just one class having multiple methods.Methods with the same name but different number of parameters.\n",
    "#Whenever a class contains more than one methods with the same name but different number of parameters is called Method overloading."
   ]
  },
  {
   "cell_type": "code",
   "execution_count": 25,
   "id": "a77e4605-43e8-46e4-a8c1-42b81d4d8efb",
   "metadata": {},
   "outputs": [
    {
     "name": "stdout",
     "output_type": "stream",
     "text": [
      "Welcome    \n"
     ]
    }
   ],
   "source": [
    "class Greeting:\n",
    "    def show(self):\n",
    "        print(\"Welcome\")\n",
    "    def show(self,firstname  = \" \"):\n",
    "        print(\"Welcome\", firstname)\n",
    "    def show(self,firstname = \" \",lastname = \" \"):\n",
    "        print(\"Welcome\",firstname,lastname)\n",
    "        \n",
    "        \n",
    "obj = Greeting()\n",
    "obj.show()        #which method will be called depends on the actual values\n",
    "    "
   ]
  },
  {
   "cell_type": "code",
   "execution_count": 27,
   "id": "977005a0-c1ea-45ad-9e47-3b802347fdcb",
   "metadata": {},
   "outputs": [
    {
     "data": {
      "text/plain": [
       "7"
      ]
     },
     "execution_count": 27,
     "metadata": {},
     "output_type": "execute_result"
    }
   ],
   "source": [
    "class Summation:\n",
    "    def display_sum(self,a = 0,b = 0):\n",
    "        return a+b\n",
    "    def display_sum(self,a = 0,b= 0,c= 0):\n",
    "        return a+b+c\n",
    "    \n",
    "    \n",
    "obj = Summation()\n",
    "obj.display_sum(2,5)"
   ]
  },
  {
   "cell_type": "code",
   "execution_count": 29,
   "id": "2f14c9ee-c450-4eb7-aff5-7a22a148fec4",
   "metadata": {},
   "outputs": [
    {
     "data": {
      "text/plain": [
       "'Zahid Ahmed-ASD123- '"
      ]
     },
     "execution_count": 29,
     "metadata": {},
     "output_type": "execute_result"
    }
   ],
   "source": [
    "class Employee:\n",
    "    def emp_info(self,emp_id = \" \",emp_name = \" \"):\n",
    "        return emp_name + \"-\" + emp_id\n",
    "    def emp_info(self,emp_id = \" \",emp_name = \" \",emp_designation =\" \"):\n",
    "        return emp_name + \"-\"+ emp_id+\"-\"+emp_designation\n",
    "        \n",
    "inf = Employee()\n",
    "#inf.emp_info(\"ASD123\",\"Zahid Ahmed\",\"Analyst\")\n",
    "inf.emp_info(\"ASD123\",\"Zahid Ahmed\")"
   ]
  },
  {
   "cell_type": "code",
   "execution_count": null,
   "id": "32cffeba-95dc-46b6-8e85-3845ef081a57",
   "metadata": {},
   "outputs": [],
   "source": [
    "#Method Overriding\n",
    "#Without Inheritance, Method overriding is not possible.Whenever we have the method of the same name in the parent and the child class."
   ]
  },
  {
   "cell_type": "code",
   "execution_count": 31,
   "id": "dc0959d7-13db-4a23-8106-b7f33ebdd06c",
   "metadata": {},
   "outputs": [
    {
     "name": "stdout",
     "output_type": "stream",
     "text": [
      "EduBridge has many departments.\n",
      "Training is one of the departments in EduBridge. Duration of training period is 6 months.\n"
     ]
    }
   ],
   "source": [
    "class EduBridge:\n",
    "    def info_display(self):\n",
    "        print(\"EduBridge has many departments.\")\n",
    "class Training(EduBridge):\n",
    "    def info_display(self):\n",
    "        super().info_display()\n",
    "        print(\"Training is one of the departments in EduBridge. Duration of training period is 6 months.\")\n",
    "class Placement(EduBridge):\n",
    "    def info_display(self):\n",
    "        print(\"Placement duration starts after training period.\")\n",
    "        \n",
    "        \n",
    "df = Training()\n",
    "df.info_display()\n",
    "        \n",
    "#Method overriding can be achieved using Inheritance and super() function."
   ]
  },
  {
   "cell_type": "code",
   "execution_count": null,
   "id": "f302d12f-a5fe-4d63-89da-02ecba268692",
   "metadata": {},
   "outputs": [],
   "source": [
    "# Loops on Lists"
   ]
  },
  {
   "cell_type": "code",
   "execution_count": 58,
   "id": "f92ed131-a803-41fc-ad0a-be670c9e5447",
   "metadata": {},
   "outputs": [],
   "source": [
    "#1. Display only the odd values of the list.\n",
    "f = [15, 20, 23, 45, 60, 78, 91, 65, 78, 72, 60, 21, 35, 36, 40, 50, 88,33,11, 8, 4]"
   ]
  },
  {
   "cell_type": "code",
   "execution_count": 60,
   "id": "29354c5b-1b49-41b1-9f45-b1268fc5d560",
   "metadata": {},
   "outputs": [
    {
     "name": "stdout",
     "output_type": "stream",
     "text": [
      "15 23 45 91 65 21 35 33 11 "
     ]
    }
   ],
   "source": [
    "\n",
    "for i in f:\n",
    "    if i%2!=0:\n",
    "        print(i, end = \" \")   "
   ]
  },
  {
   "cell_type": "code",
   "execution_count": null,
   "id": "0ec06dda-85d7-4528-9061-d3e147b42211",
   "metadata": {},
   "outputs": [],
   "source": [
    "#2. Display the values at odd indexes.\n",
    "#values_at_odd_indexes = [f[i] for i in range(len(f)) if i % 2 != 0]\n",
    "#print(values_at_odd_indexes)"
   ]
  },
  {
   "cell_type": "code",
   "execution_count": 62,
   "id": "045c1d62-43ed-4738-a85e-6de1a8912c1f",
   "metadata": {},
   "outputs": [
    {
     "name": "stdout",
     "output_type": "stream",
     "text": [
      "20 45 78 65 72 21 36 50 33 8 "
     ]
    }
   ],
   "source": [
    "\n",
    "for i in range(len(f)):\n",
    "    if i%2!=0:\n",
    "        print(f[i], end = \" \")"
   ]
  },
  {
   "cell_type": "code",
   "execution_count": null,
   "id": "dc6b1507-2f67-4e5a-bbed-b90105d90025",
   "metadata": {},
   "outputs": [],
   "source": [
    "#3. Store the even values from the list in a new list named \"even\"."
   ]
  },
  {
   "cell_type": "code",
   "execution_count": 64,
   "id": "51a3e930-3024-470a-8abb-e41b1f9f1e63",
   "metadata": {},
   "outputs": [
    {
     "name": "stdout",
     "output_type": "stream",
     "text": [
      "[20, 60, 78, 78, 72, 60, 36, 40, 50, 88, 8, 4]\n"
     ]
    }
   ],
   "source": [
    "even = []  #or even = list()   #these are the two ways to take empty lists\n",
    "for i in f:\n",
    "    if i%2==0:\n",
    "        even.append(i)\n",
    "        \n",
    "print(even)"
   ]
  },
  {
   "cell_type": "code",
   "execution_count": null,
   "id": "7c698f6b-8dc6-4ccd-89c2-b69382118014",
   "metadata": {},
   "outputs": [],
   "source": [
    "#4.Store the values at even indexes from the list in a new list named \"even_2\"."
   ]
  },
  {
   "cell_type": "code",
   "execution_count": 66,
   "id": "60b8cc98-32cd-43bc-a48a-cc5e64d2472b",
   "metadata": {},
   "outputs": [
    {
     "name": "stdout",
     "output_type": "stream",
     "text": [
      "[15, 23, 60, 91, 78, 60, 35, 40, 88, 11, 4]\n"
     ]
    }
   ],
   "source": [
    "even_2 = []\n",
    "for i in range(len(f)):\n",
    "    if i % 2 == 0:\n",
    "        even_2.append(f[i])\n",
    "print(even_2)"
   ]
  },
  {
   "cell_type": "code",
   "execution_count": null,
   "id": "73784c1f-4126-4328-a8a3-81e303455d7b",
   "metadata": {},
   "outputs": [],
   "source": [
    "#5. Store the even values from the list in a new list named \"even_u\" after adding 100 to each value and\n",
    "   #store the odd values from the list in a new list name\"odd_u\" after multiplying 100 to each value."
   ]
  },
  {
   "cell_type": "code",
   "execution_count": 68,
   "id": "ceaf05bd-05f4-49fe-b594-415ce2e861c7",
   "metadata": {},
   "outputs": [
    {
     "name": "stdout",
     "output_type": "stream",
     "text": [
      "List of even numbers: [120, 160, 178, 178, 172, 160, 136, 140, 150, 188, 108, 104]\n",
      "List of odd numbers: [1500, 2300, 4500, 9100, 6500, 2100, 3500, 3300, 1100]\n"
     ]
    }
   ],
   "source": [
    "\n",
    "even_u = list()\n",
    "odd_u = list()\n",
    "for i in f:\n",
    "    if i%2==0:\n",
    "        even_u.append(i+100)\n",
    "    else:\n",
    "        odd_u.append(i*100)\n",
    "        \n",
    "print(\"List of even numbers:\", even_u)\n",
    "print(\"List of odd numbers:\", odd_u)\n",
    "        "
   ]
  },
  {
   "cell_type": "code",
   "execution_count": 70,
   "id": "9145f8bd-d812-45d3-988f-994d0ea31dac",
   "metadata": {},
   "outputs": [],
   "source": [
    "#6. Store the names whose length is less than equal to 5 in a new list named \"five_l\" otherwise store other names in \"five_m\".\n",
    "#startswith   endswith(): these are string methods\n",
    "names = ['Gayathri', 'Akash', 'Ritu', 'Ritik', 'Radha', 'Sankar', 'Venky', 'Jyoti', 'Dhanshree', 'Vepasa', 'Jahanvi', 'Vishnu', 'Manasa', 'Ritu']\n"
   ]
  },
  {
   "cell_type": "code",
   "execution_count": 72,
   "id": "f6a9400a-174b-46b6-8f75-447f305b984c",
   "metadata": {},
   "outputs": [
    {
     "name": "stdout",
     "output_type": "stream",
     "text": [
      "names whose length is less than 5 ['Akash', 'Ritu', 'Ritik', 'Radha', 'Venky', 'Jyoti', 'Ritu']\n",
      "names whose length is more than 5 ['Gayathri', 'Sankar', 'Dhanshree', 'Vepasa', 'Jahanvi', 'Vishnu', 'Manasa']\n"
     ]
    }
   ],
   "source": [
    "\n",
    "five_l=[]\n",
    "five_m=[]\n",
    "for i in names:\n",
    "    if len(i) <= 5:\n",
    "        five_l.append(i)\n",
    "    else:\n",
    "        five_m.append(i)\n",
    "        \n",
    "        \n",
    "print(\"names whose length is less than 5\",five_l)\n",
    "print(\"names whose length is more than 5\",five_m)"
   ]
  },
  {
   "cell_type": "code",
   "execution_count": null,
   "id": "90c74274-3a75-420e-a5e0-bf4320c08703",
   "metadata": {},
   "outputs": [],
   "source": [
    "#7. Store the names starting with 'V' in V list and the names starting with 'R' in R list."
   ]
  },
  {
   "cell_type": "code",
   "execution_count": 74,
   "id": "2f595e6e-7ad3-4b4b-9f3b-3213656ff2be",
   "metadata": {},
   "outputs": [
    {
     "name": "stdout",
     "output_type": "stream",
     "text": [
      "['Venky', 'Vepasa', 'Vishnu']\n",
      "['Ritu', 'Ritik', 'Radha', 'Ritu']\n"
     ]
    }
   ],
   "source": [
    "R = []\n",
    "V = []\n",
    "for i in names:\n",
    "    if i.startswith('V'):\n",
    "        V.append(i)\n",
    "    elif i.startswith('R'):\n",
    "        R.append(i)\n",
    "    else:\n",
    "        pass\n",
    "    \n",
    "print(V)\n",
    "print(R)"
   ]
  },
  {
   "cell_type": "code",
   "execution_count": null,
   "id": "4f67528e-61bb-406a-bb97-35ddce36856b",
   "metadata": {},
   "outputs": [],
   "source": [
    "##Object and class"
   ]
  },
  {
   "cell_type": "code",
   "execution_count": 76,
   "id": "8f77e068-7174-4539-8ce8-97c0ca7b8f42",
   "metadata": {},
   "outputs": [
    {
     "name": "stdout",
     "output_type": "stream",
     "text": [
      "The funny song from the new movie stars Ranbir Kapoor,Alia Bhatt and Kapil Sharma.It is sung by Arijit Singh and choreographed by Farah Khan.\n",
      "The imdb ratings given to the song is 3.5, which is good.\n"
     ]
    }
   ],
   "source": [
    "class Bollywood:\n",
    "    singer = \"Shreya Ghoshal\"\n",
    "    choreographer = \"Remo D Souza\"\n",
    "    comedian = \"Rajpal Yadav\"\n",
    "    actress = \"Alia Bhatt\"\n",
    "    actor = \"Ranbir Kapoor\"\n",
    "    imdb = 3.5\n",
    "    def show_info(self):\n",
    "        print(f'The funny song from the new movie stars {self.actor},{self.actress} and {self.comedian}.It is sung by {self.singer} and choreographed by {self.choreographer}.')\n",
    "    def song_review(self):\n",
    "        print(f'The imdb ratings given to the song is {self.imdb}, which is good.')\n",
    "        \n",
    "        \n",
    "#we have to create an object of a class so that we can use the attributes and methods outside the class.        \n",
    "obj1 = Bollywood()\n",
    "obj1.singer = 'Arijit Singh'\n",
    "obj1.comedian = 'Kapil Sharma'\n",
    "obj1.choreographer = 'Farah Khan'\n",
    "obj1.show_info()\n",
    "obj1.song_review()"
   ]
  },
  {
   "cell_type": "code",
   "execution_count": null,
   "id": "f1bcc241-cb69-4fbb-8e4f-e34c7b79a61f",
   "metadata": {},
   "outputs": [],
   "source": [
    "#non-parametrized constructor"
   ]
  },
  {
   "cell_type": "code",
   "execution_count": null,
   "id": "ccc89414-19ce-4cfe-91e0-dafccedc3d39",
   "metadata": {},
   "outputs": [],
   "source": [
    "**__init__ Constructor:even if we do not access the method outside the class, this constructor will automatically call the method.**"
   ]
  },
  {
   "cell_type": "code",
   "execution_count": 78,
   "id": "386b8983-86ac-4adb-b10d-68b2ccfcfb65",
   "metadata": {},
   "outputs": [
    {
     "name": "stdin",
     "output_type": "stream",
     "text": [
      "Enter the name Surya\n",
      "Enter the course name. Data analyst\n",
      "Enter the course duration in months. 6\n",
      "Enter the state name. Kerala\n"
     ]
    },
    {
     "name": "stdout",
     "output_type": "stream",
     "text": [
      "Surya has applied for Data analyst course, which is of 6 months and the student belongs to Kerala.\n"
     ]
    }
   ],
   "source": [
    "class Student:\n",
    "    def __init__(self):                               # non-parametrized constructor\n",
    "        self.name = input(\"Enter the name\")\n",
    "        self.course = input(\"Enter the course name.\")\n",
    "        self.duration = int(input(\"Enter the course duration in months.\"))\n",
    "        self.state = input(\"Enter the state name.\")\n",
    "    def show_info(self):\n",
    "        print(f'{self.name} has applied for {self.course} course, which is of {self.duration} months and the student belongs to {self.state}.')\n",
    "        \n",
    "        \n",
    "first = Student()\n",
    "first.show_info()\n",
    "        "
   ]
  },
  {
   "cell_type": "code",
   "execution_count": null,
   "id": "f9b4b4d7-da60-45e9-9d82-47ca3d2dff0d",
   "metadata": {},
   "outputs": [],
   "source": [
    " # parametrized constructor"
   ]
  },
  {
   "cell_type": "code",
   "execution_count": 80,
   "id": "954ab5ec-4719-4b54-ad5e-144e0614791f",
   "metadata": {},
   "outputs": [
    {
     "name": "stdout",
     "output_type": "stream",
     "text": [
      "Shalini has applied for MIS Analsyt course, which is of 6 months and the student belongs to Kerela.\n"
     ]
    }
   ],
   "source": [
    "class Student:\n",
    "    def __init__(self,name,course,duration,state):                               # parametrized constructor\n",
    "        self.name = name\n",
    "        self.course = course\n",
    "        self.duration = duration\n",
    "        self.state = state\n",
    "    def show_info(self,name,course,duration,state):\n",
    "        print(f'{self.name} has applied for {self.course} course, which is of {self.duration} months and the student belongs to {self.state}.')\n",
    "        \n",
    "        \n",
    "first = Student(\"Shalini\",\"MIS Analsyt\",6,\"Kerela\")\n",
    "first.show_info(\"Shalini\",\"MIS Analsyt\",6,\"Kerela\")"
   ]
  },
  {
   "cell_type": "code",
   "execution_count": null,
   "id": "e5a33301-4ba5-4cf7-8803-00ef196c8e43",
   "metadata": {},
   "outputs": [],
   "source": []
  },
  {
   "cell_type": "code",
   "execution_count": null,
   "id": "15058efd-d88e-466b-9e33-30d52f72ff15",
   "metadata": {},
   "outputs": [],
   "source": []
  },
  {
   "cell_type": "code",
   "execution_count": null,
   "id": "476a0ddb-5122-4555-b2bc-0c84e96bb5e6",
   "metadata": {},
   "outputs": [],
   "source": []
  },
  {
   "cell_type": "code",
   "execution_count": null,
   "id": "d7525627-6960-4c65-ab17-6f839d2e7ecc",
   "metadata": {},
   "outputs": [],
   "source": []
  },
  {
   "cell_type": "code",
   "execution_count": null,
   "id": "7f536335-d889-4b5c-b556-7a3427d065ba",
   "metadata": {},
   "outputs": [],
   "source": []
  },
  {
   "cell_type": "code",
   "execution_count": null,
   "id": "60d663ec-381e-4b41-9c57-3a7b274f192e",
   "metadata": {},
   "outputs": [],
   "source": []
  },
  {
   "cell_type": "code",
   "execution_count": null,
   "id": "2941c6f9-8cc1-466c-80e6-b6e5f2d64bc1",
   "metadata": {},
   "outputs": [],
   "source": []
  },
  {
   "cell_type": "code",
   "execution_count": null,
   "id": "ec9cb8a7-5167-420a-9aec-309f10344c6a",
   "metadata": {},
   "outputs": [],
   "source": []
  }
 ],
 "metadata": {
  "kernelspec": {
   "display_name": "Python 3 (ipykernel)",
   "language": "python",
   "name": "python3"
  },
  "language_info": {
   "codemirror_mode": {
    "name": "ipython",
    "version": 3
   },
   "file_extension": ".py",
   "mimetype": "text/x-python",
   "name": "python",
   "nbconvert_exporter": "python",
   "pygments_lexer": "ipython3",
   "version": "3.11.7"
  }
 },
 "nbformat": 4,
 "nbformat_minor": 5
}
